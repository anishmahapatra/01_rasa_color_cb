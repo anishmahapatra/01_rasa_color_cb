{
  "nbformat": 4,
  "nbformat_minor": 0,
  "metadata": {
    "colab": {
      "name": "Credit Card Fraud Case Study - v1.ipynb",
      "provenance": [],
      "authorship_tag": "ABX9TyPxAStGG9a5B5fXWnzKAsn9",
      "include_colab_link": true
    },
    "kernelspec": {
      "name": "python3",
      "display_name": "Python 3"
    }
  },
  "cells": [
    {
      "cell_type": "markdown",
      "metadata": {
        "id": "view-in-github",
        "colab_type": "text"
      },
      "source": [
        "<a href=\"https://colab.research.google.com/github/anishmahapatra01/01_rasa_color_cb/blob/master/Credit_Card_Fraud_Case_Study_v1.ipynb\" target=\"_parent\"><img src=\"https://colab.research.google.com/assets/colab-badge.svg\" alt=\"Open In Colab\"/></a>"
      ]
    },
    {
      "cell_type": "markdown",
      "metadata": {
        "id": "1fWprL_Es2Np",
        "colab_type": "text"
      },
      "source": [
        "![IIITB.jpeg](data:image/jpeg;base64,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)\n",
        "\n",
        "\n",
        "## Credit Card Fraud Case Study - CapStone Project\n",
        "Authors: *Anish Mahapatra*, *Karthik Premanand*\n",
        "\n",
        "email id: *anishmahapatra01@gmail.com, karthikprem26@gmail.com*\n"
      ]
    },
    {
      "cell_type": "markdown",
      "metadata": {
        "id": "TCNKgYas3Rb0",
        "colab_type": "text"
      },
      "source": [
        "\n",
        "\n",
        "\n",
        "\n",
        "---\n",
        "\n",
        "\n",
        "\n",
        "\n",
        "The aim of the Capstone Project is to predict fradulent credit card transactions with the help of machine learning models.\n",
        "\n",
        "\n",
        "### Business Problem Overview\n",
        "Business problem Overview\n",
        "Banking fraud is a significant threat to the goad of retaining high profitable customers. It is an issue of substantial financial loss, both to the bank, as well as the customer. This can lead to lack of trust and credibility, which can lead to a high attrition rate. It is estimated that banking frauds account to $30 billion loss worldwide. With the rise of digital payments, the number of fraudulent transactions is also increasing in new and different ways.\n",
        "In the BFSI industry, credit card fraud detection is a necessity to provide customers with proactive monitoring and fraud prevention mechanisms. Automating it helps to decrease time-consuming manual reviews, chargeback fees and denials of legitimate transactions.\n",
        " \n",
        "### Problem Definition\n",
        "Given a transaction, it is not immediately clear if it is a legitimate or illegitimate one. There are multiple factors at play such as the time, location, amount, frequency, last transaction time etc. among many other features. We understand that this is a binary classification problem to decide if the transaction is genuine or fraudulent.\n",
        "\n",
        "Data from [Kaggle](https://www.kaggle.com/mlg-ulb/creditcardfraud/notebooks)\n",
        "\n",
        "### Purpose of the notebook\n",
        "The purpose of the notebook is to predict the customers that commit credit card fraud."
      ]
    },
    {
      "cell_type": "markdown",
      "metadata": {
        "id": "TULKJOhg7R00",
        "colab_type": "text"
      },
      "source": [
        "\n",
        "\n",
        "---\n",
        "\n",
        "\n",
        "### Table of Contents\n",
        "\n",
        "1.   Load the data, Sense Check of the Data\n",
        "2.   Data Cleaning, Missing Value Treatment\n",
        "\n",
        "\n",
        "\n"
      ]
    },
    {
      "cell_type": "code",
      "metadata": {
        "id": "Qh0YhYceuG8B",
        "colab_type": "code",
        "colab": {
          "base_uri": "https://localhost:8080/",
          "height": 71
        },
        "outputId": "718850d9-37ea-422d-e275-3ffe5155a4e8"
      },
      "source": [
        "# Importing the required packages\n",
        "\n",
        "from sklearn.linear_model import LinearRegression\n",
        "from sklearn.model_selection import GridSearchCV\n",
        "from sklearn.linear_model import Ridge\n",
        "from sklearn.linear_model import Lasso\n",
        "from sklearn import linear_model\n",
        "import matplotlib.pyplot as plt\n",
        "import seaborn as sns\n",
        "import pandas as pd\n",
        "import numpy as np\n",
        "import os\n",
        "\n",
        "# Hide warnings\n",
        "\n",
        "import warnings\n",
        "warnings.filterwarnings('ignore')"
      ],
      "execution_count": 25,
      "outputs": [
        {
          "output_type": "stream",
          "text": [
            "/usr/local/lib/python3.6/dist-packages/statsmodels/tools/_testing.py:19: FutureWarning: pandas.util.testing is deprecated. Use the functions in the public API at pandas.testing instead.\n",
            "  import pandas.util.testing as tm\n"
          ],
          "name": "stderr"
        }
      ]
    },
    {
      "cell_type": "code",
      "metadata": {
        "id": "MTr_u4fH8CIK",
        "colab_type": "code",
        "colab": {}
      },
      "source": [
        "# Removing the minimum display columns to 500\n",
        "pd.set_option('display.max_columns', 500)\n",
        "pd.set_option('display.max_rows', 500)\n",
        "\n",
        "# Ignoring warnings\n",
        "warnings.filterwarnings(\"ignore\")"
      ],
      "execution_count": 29,
      "outputs": []
    },
    {
      "cell_type": "code",
      "metadata": {
        "id": "NR_dDJskvHt8",
        "colab_type": "code",
        "colab": {
          "base_uri": "https://localhost:8080/",
          "height": 34
        },
        "outputId": "e2355dc9-5f77-4b28-c0f0-e4ff1b3a5e83"
      },
      "source": [
        "# Since this notebook is from Google Colab, mounting Google Drive for authentication token\n",
        "from google.colab import drive\n",
        "drive.mount('/content/drive')"
      ],
      "execution_count": 27,
      "outputs": [
        {
          "output_type": "stream",
          "text": [
            "Drive already mounted at /content/drive; to attempt to forcibly remount, call drive.mount(\"/content/drive\", force_remount=True).\n"
          ],
          "name": "stdout"
        }
      ]
    },
    {
      "cell_type": "markdown",
      "metadata": {
        "id": "Zlceh9Tf84NW",
        "colab_type": "text"
      },
      "source": [
        "### Sense Checks of the Dataset"
      ]
    },
    {
      "cell_type": "code",
      "metadata": {
        "id": "V2Vcql6uvjT4",
        "colab_type": "code",
        "colab": {}
      },
      "source": [
        "# Reading the Credit Card Case Study Dataset\n",
        "creditCard = pd.read_csv('/content/drive/My Drive/CreditCardFraudCaseStudy-Data/creditcard.csv')"
      ],
      "execution_count": 30,
      "outputs": []
    },
    {
      "cell_type": "code",
      "metadata": {
        "id": "NdMrwSaxvjW5",
        "colab_type": "code",
        "colab": {
          "base_uri": "https://localhost:8080/",
          "height": 217
        },
        "outputId": "2307208d-cbf9-414c-9bfb-adb9794cfacb"
      },
      "source": [
        "# Viewing the head of the dataset - Sense Check of the dataset\n",
        "creditCard.head()"
      ],
      "execution_count": 22,
      "outputs": [
        {
          "output_type": "execute_result",
          "data": {
            "text/html": [
              "<div>\n",
              "<style scoped>\n",
              "    .dataframe tbody tr th:only-of-type {\n",
              "        vertical-align: middle;\n",
              "    }\n",
              "\n",
              "    .dataframe tbody tr th {\n",
              "        vertical-align: top;\n",
              "    }\n",
              "\n",
              "    .dataframe thead th {\n",
              "        text-align: right;\n",
              "    }\n",
              "</style>\n",
              "<table border=\"1\" class=\"dataframe\">\n",
              "  <thead>\n",
              "    <tr style=\"text-align: right;\">\n",
              "      <th></th>\n",
              "      <th>Time</th>\n",
              "      <th>V1</th>\n",
              "      <th>V2</th>\n",
              "      <th>V3</th>\n",
              "      <th>V4</th>\n",
              "      <th>V5</th>\n",
              "      <th>V6</th>\n",
              "      <th>V7</th>\n",
              "      <th>V8</th>\n",
              "      <th>V9</th>\n",
              "      <th>V10</th>\n",
              "      <th>V11</th>\n",
              "      <th>V12</th>\n",
              "      <th>V13</th>\n",
              "      <th>V14</th>\n",
              "      <th>V15</th>\n",
              "      <th>V16</th>\n",
              "      <th>V17</th>\n",
              "      <th>V18</th>\n",
              "      <th>V19</th>\n",
              "      <th>V20</th>\n",
              "      <th>V21</th>\n",
              "      <th>V22</th>\n",
              "      <th>V23</th>\n",
              "      <th>V24</th>\n",
              "      <th>V25</th>\n",
              "      <th>V26</th>\n",
              "      <th>V27</th>\n",
              "      <th>V28</th>\n",
              "      <th>Amount</th>\n",
              "      <th>Class</th>\n",
              "    </tr>\n",
              "  </thead>\n",
              "  <tbody>\n",
              "    <tr>\n",
              "      <th>0</th>\n",
              "      <td>0.0</td>\n",
              "      <td>-1.359807</td>\n",
              "      <td>-0.072781</td>\n",
              "      <td>2.536347</td>\n",
              "      <td>1.378155</td>\n",
              "      <td>-0.338321</td>\n",
              "      <td>0.462388</td>\n",
              "      <td>0.239599</td>\n",
              "      <td>0.098698</td>\n",
              "      <td>0.363787</td>\n",
              "      <td>0.090794</td>\n",
              "      <td>-0.551600</td>\n",
              "      <td>-0.617801</td>\n",
              "      <td>-0.991390</td>\n",
              "      <td>-0.311169</td>\n",
              "      <td>1.468177</td>\n",
              "      <td>-0.470401</td>\n",
              "      <td>0.207971</td>\n",
              "      <td>0.025791</td>\n",
              "      <td>0.403993</td>\n",
              "      <td>0.251412</td>\n",
              "      <td>-0.018307</td>\n",
              "      <td>0.277838</td>\n",
              "      <td>-0.110474</td>\n",
              "      <td>0.066928</td>\n",
              "      <td>0.128539</td>\n",
              "      <td>-0.189115</td>\n",
              "      <td>0.133558</td>\n",
              "      <td>-0.021053</td>\n",
              "      <td>149.62</td>\n",
              "      <td>0</td>\n",
              "    </tr>\n",
              "    <tr>\n",
              "      <th>1</th>\n",
              "      <td>0.0</td>\n",
              "      <td>1.191857</td>\n",
              "      <td>0.266151</td>\n",
              "      <td>0.166480</td>\n",
              "      <td>0.448154</td>\n",
              "      <td>0.060018</td>\n",
              "      <td>-0.082361</td>\n",
              "      <td>-0.078803</td>\n",
              "      <td>0.085102</td>\n",
              "      <td>-0.255425</td>\n",
              "      <td>-0.166974</td>\n",
              "      <td>1.612727</td>\n",
              "      <td>1.065235</td>\n",
              "      <td>0.489095</td>\n",
              "      <td>-0.143772</td>\n",
              "      <td>0.635558</td>\n",
              "      <td>0.463917</td>\n",
              "      <td>-0.114805</td>\n",
              "      <td>-0.183361</td>\n",
              "      <td>-0.145783</td>\n",
              "      <td>-0.069083</td>\n",
              "      <td>-0.225775</td>\n",
              "      <td>-0.638672</td>\n",
              "      <td>0.101288</td>\n",
              "      <td>-0.339846</td>\n",
              "      <td>0.167170</td>\n",
              "      <td>0.125895</td>\n",
              "      <td>-0.008983</td>\n",
              "      <td>0.014724</td>\n",
              "      <td>2.69</td>\n",
              "      <td>0</td>\n",
              "    </tr>\n",
              "    <tr>\n",
              "      <th>2</th>\n",
              "      <td>1.0</td>\n",
              "      <td>-1.358354</td>\n",
              "      <td>-1.340163</td>\n",
              "      <td>1.773209</td>\n",
              "      <td>0.379780</td>\n",
              "      <td>-0.503198</td>\n",
              "      <td>1.800499</td>\n",
              "      <td>0.791461</td>\n",
              "      <td>0.247676</td>\n",
              "      <td>-1.514654</td>\n",
              "      <td>0.207643</td>\n",
              "      <td>0.624501</td>\n",
              "      <td>0.066084</td>\n",
              "      <td>0.717293</td>\n",
              "      <td>-0.165946</td>\n",
              "      <td>2.345865</td>\n",
              "      <td>-2.890083</td>\n",
              "      <td>1.109969</td>\n",
              "      <td>-0.121359</td>\n",
              "      <td>-2.261857</td>\n",
              "      <td>0.524980</td>\n",
              "      <td>0.247998</td>\n",
              "      <td>0.771679</td>\n",
              "      <td>0.909412</td>\n",
              "      <td>-0.689281</td>\n",
              "      <td>-0.327642</td>\n",
              "      <td>-0.139097</td>\n",
              "      <td>-0.055353</td>\n",
              "      <td>-0.059752</td>\n",
              "      <td>378.66</td>\n",
              "      <td>0</td>\n",
              "    </tr>\n",
              "    <tr>\n",
              "      <th>3</th>\n",
              "      <td>1.0</td>\n",
              "      <td>-0.966272</td>\n",
              "      <td>-0.185226</td>\n",
              "      <td>1.792993</td>\n",
              "      <td>-0.863291</td>\n",
              "      <td>-0.010309</td>\n",
              "      <td>1.247203</td>\n",
              "      <td>0.237609</td>\n",
              "      <td>0.377436</td>\n",
              "      <td>-1.387024</td>\n",
              "      <td>-0.054952</td>\n",
              "      <td>-0.226487</td>\n",
              "      <td>0.178228</td>\n",
              "      <td>0.507757</td>\n",
              "      <td>-0.287924</td>\n",
              "      <td>-0.631418</td>\n",
              "      <td>-1.059647</td>\n",
              "      <td>-0.684093</td>\n",
              "      <td>1.965775</td>\n",
              "      <td>-1.232622</td>\n",
              "      <td>-0.208038</td>\n",
              "      <td>-0.108300</td>\n",
              "      <td>0.005274</td>\n",
              "      <td>-0.190321</td>\n",
              "      <td>-1.175575</td>\n",
              "      <td>0.647376</td>\n",
              "      <td>-0.221929</td>\n",
              "      <td>0.062723</td>\n",
              "      <td>0.061458</td>\n",
              "      <td>123.50</td>\n",
              "      <td>0</td>\n",
              "    </tr>\n",
              "    <tr>\n",
              "      <th>4</th>\n",
              "      <td>2.0</td>\n",
              "      <td>-1.158233</td>\n",
              "      <td>0.877737</td>\n",
              "      <td>1.548718</td>\n",
              "      <td>0.403034</td>\n",
              "      <td>-0.407193</td>\n",
              "      <td>0.095921</td>\n",
              "      <td>0.592941</td>\n",
              "      <td>-0.270533</td>\n",
              "      <td>0.817739</td>\n",
              "      <td>0.753074</td>\n",
              "      <td>-0.822843</td>\n",
              "      <td>0.538196</td>\n",
              "      <td>1.345852</td>\n",
              "      <td>-1.119670</td>\n",
              "      <td>0.175121</td>\n",
              "      <td>-0.451449</td>\n",
              "      <td>-0.237033</td>\n",
              "      <td>-0.038195</td>\n",
              "      <td>0.803487</td>\n",
              "      <td>0.408542</td>\n",
              "      <td>-0.009431</td>\n",
              "      <td>0.798278</td>\n",
              "      <td>-0.137458</td>\n",
              "      <td>0.141267</td>\n",
              "      <td>-0.206010</td>\n",
              "      <td>0.502292</td>\n",
              "      <td>0.219422</td>\n",
              "      <td>0.215153</td>\n",
              "      <td>69.99</td>\n",
              "      <td>0</td>\n",
              "    </tr>\n",
              "  </tbody>\n",
              "</table>\n",
              "</div>"
            ],
            "text/plain": [
              "   Time        V1        V2        V3  ...       V27       V28  Amount  Class\n",
              "0   0.0 -1.359807 -0.072781  2.536347  ...  0.133558 -0.021053  149.62      0\n",
              "1   0.0  1.191857  0.266151  0.166480  ... -0.008983  0.014724    2.69      0\n",
              "2   1.0 -1.358354 -1.340163  1.773209  ... -0.055353 -0.059752  378.66      0\n",
              "3   1.0 -0.966272 -0.185226  1.792993  ...  0.062723  0.061458  123.50      0\n",
              "4   2.0 -1.158233  0.877737  1.548718  ...  0.219422  0.215153   69.99      0\n",
              "\n",
              "[5 rows x 31 columns]"
            ]
          },
          "metadata": {
            "tags": []
          },
          "execution_count": 22
        }
      ]
    },
    {
      "cell_type": "code",
      "metadata": {
        "id": "0Qs_iMYcvjfz",
        "colab_type": "code",
        "colab": {}
      },
      "source": [
        ""
      ],
      "execution_count": null,
      "outputs": []
    },
    {
      "cell_type": "code",
      "metadata": {
        "id": "SyJJg5uWvjlU",
        "colab_type": "code",
        "colab": {}
      },
      "source": [
        ""
      ],
      "execution_count": null,
      "outputs": []
    },
    {
      "cell_type": "code",
      "metadata": {
        "id": "1RlS4iUDvjq_",
        "colab_type": "code",
        "colab": {}
      },
      "source": [
        ""
      ],
      "execution_count": null,
      "outputs": []
    },
    {
      "cell_type": "code",
      "metadata": {
        "id": "cVzm32WsvjzR",
        "colab_type": "code",
        "colab": {}
      },
      "source": [
        ""
      ],
      "execution_count": null,
      "outputs": []
    },
    {
      "cell_type": "code",
      "metadata": {
        "id": "iPbCGaqavj2t",
        "colab_type": "code",
        "colab": {}
      },
      "source": [
        ""
      ],
      "execution_count": null,
      "outputs": []
    },
    {
      "cell_type": "code",
      "metadata": {
        "id": "btDSBaRpvjwq",
        "colab_type": "code",
        "colab": {}
      },
      "source": [
        ""
      ],
      "execution_count": null,
      "outputs": []
    },
    {
      "cell_type": "code",
      "metadata": {
        "id": "htgtyKcWvjub",
        "colab_type": "code",
        "colab": {}
      },
      "source": [
        ""
      ],
      "execution_count": null,
      "outputs": []
    },
    {
      "cell_type": "code",
      "metadata": {
        "id": "Ce-3tSa8vjo_",
        "colab_type": "code",
        "colab": {}
      },
      "source": [
        ""
      ],
      "execution_count": null,
      "outputs": []
    },
    {
      "cell_type": "code",
      "metadata": {
        "id": "CFzAnI86vji_",
        "colab_type": "code",
        "colab": {}
      },
      "source": [
        ""
      ],
      "execution_count": null,
      "outputs": []
    },
    {
      "cell_type": "code",
      "metadata": {
        "id": "Y5CDvdIsvjeG",
        "colab_type": "code",
        "colab": {}
      },
      "source": [
        ""
      ],
      "execution_count": null,
      "outputs": []
    },
    {
      "cell_type": "code",
      "metadata": {
        "id": "-w87yU0WvjbD",
        "colab_type": "code",
        "colab": {}
      },
      "source": [
        ""
      ],
      "execution_count": null,
      "outputs": []
    }
  ]
}